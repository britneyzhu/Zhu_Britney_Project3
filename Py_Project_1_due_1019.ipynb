{
 "cells": [
  {
   "cell_type": "markdown",
   "metadata": {
    "id": "xq__bChjD04e"
   },
   "source": [
    "# Python Assignment 1"
   ]
  },
  {
   "cell_type": "markdown",
   "metadata": {
    "id": "y7j2V0UDMYLG"
   },
   "source": [
    "⏱⏱⏱**Due: 10/19/2025 11:59:59 PM** ⏱⏱⏱\n",
    "\n",
    "Submit this notebook file and upload it to your git repo. Include a link to your git repo while submitting this file to Brightspace.\n",
    "\n",
    "You are not allowed to use chatgpt or any LLM in this assignment.\n",
    "Cooperation is allowed and encouraged; however, you must write up and submit your own work. If you cooperate with others, you must list their names here."
   ]
  },
  {
   "cell_type": "markdown",
   "metadata": {
    "id": "SUS30Ew9D04n"
   },
   "source": [
    "Total points: 100 (equivalent to 20 points after conversion)"
   ]
  },
  {
   "cell_type": "markdown",
   "metadata": {
    "id": "b_bgT3b2GYTB"
   },
   "source": [
    "## 0. Data Types, Structures, Indexing, and Slicing"
   ]
  },
  {
   "cell_type": "markdown",
   "metadata": {
    "id": "6yI1Jt57IwV2"
   },
   "source": [
    "Read the lecutre note as well as [this page](https://www.geeksforgeeks.org/mutable-vs-immutable-objects-in-python/) and [this page](https://www.geeksforgeeks.org/difference-between-shallow-and-deep-copy-of-a-class/). Complete the following questions.\n",
    "\n",
    "(5 points) Give some examples (at least 2) of mutable objects in Python.\n",
    "\n",
    "***Answer:***\n",
    "\n",
    "We are taught in our lectures that lists, sets, and dictionary are mutable.\n",
    "Example of list: a = [1,2,3]\n",
    "Example of set: a = {1,2,3}\n",
    "\n",
    "---\n",
    "\n",
    "\n",
    "\n",
    "(5 points) Give some examples (at least 2) of immutable objects in Python.\n",
    "\n",
    "***Answer:***\n",
    "We are taught in our lectures that tuples, numbers, frozenset, and strings are immutable.\n",
    "Example of tuples: (1,2,3, 'the')\n",
    "Example of strings: 'hello'\n",
    "\n",
    "\n",
    "---\n",
    "\n",
    "\n",
    "\n",
    "(10 points) State the differences between assignment, shallow copy, and deep copy. Any reasonable answer will get full credit.\n",
    "\n",
    "***Answer:***\n",
    "According to the reading, \n",
    "\n",
    "shallow copy is a lot faster than deep copy.\n",
    "Shallow Copy would create a new object, but the inside elements will still be shared from the original memory address. The Deep copy stores all of the copies of the object's value but in a way is its own independent copy. DEEP COPY'S CHANGES WILL NOT AFFECT THE ORIGINAL MEMORY, BUT THE SHALLOW COPY WILL IN NESTED ELEMENTS!\n",
    "\n",
    "And then we have assignment, which just assigns the variable to another variable name. However, any changes will still be made on that original memory.\n",
    "\n",
    "---\n",
    "\n",
    "\n",
    "\n"
   ]
  },
  {
   "cell_type": "markdown",
   "metadata": {
    "id": "OA8DxcrrGqZD"
   },
   "source": [
    "(10 points) Using string methods find() and rfind(), find the index of the first digit (i.e. 0) and the index of the last digit (5) in the string below. Then, using string slicing, extract the number (i.e. 0.595595) from this string and convert the extracted value to a floating point number. Print out this float to the console."
   ]
  },
  {
   "cell_type": "code",
   "execution_count": 40,
   "metadata": {
    "id": "AUuFXXWqG4D3"
   },
   "outputs": [
    {
     "name": "stdout",
     "output_type": "stream",
     "text": [
      "0.595595\n"
     ]
    }
   ],
   "source": [
    "text = \"F-DGFDDSFGFD-CFDSHdstgfdfe: tfsd  aaa bdsf 0.595595 fdsgfdbc\";\n",
    "\n",
    "first = text.find('0') #find() searches from left to right\n",
    "last = text.rfind('5') #rfind() searches from right to left\n",
    "\n",
    "number = text[first:last+1] # we slide the string, REMEMBER!!! dont forget to add the +1 since python wouldnt include the last 5 if I dont add 1\n",
    "number = float(number) #converts the string to a floating point number.\n",
    "print(number)"
   ]
  },
  {
   "cell_type": "markdown",
   "metadata": {
    "id": "cnCljYgpD04p"
   },
   "source": [
    "## 1. Conditional Statements\n",
    "\n",
    "(10 points)\n",
    "Translate the following MATLAB code into Python using `if-elif-else`.\n",
    "```\n",
    "n = input('Enter a number: ');\n",
    "\n",
    "switch n\n",
    "    case -1\n",
    "        disp('negative one')\n",
    "    case 0\n",
    "        disp('zero')\n",
    "    case 1\n",
    "        disp('positive one')\n",
    "    otherwise\n",
    "        disp('other value')\n",
    "end\n",
    "```"
   ]
  },
  {
   "cell_type": "code",
   "execution_count": 42,
   "metadata": {
    "id": "9d8vl5zjD04q"
   },
   "outputs": [
    {
     "name": "stdin",
     "output_type": "stream",
     "text": [
      "Enter a number:  1\n"
     ]
    },
    {
     "name": "stdout",
     "output_type": "stream",
     "text": [
      "positive one\n"
     ]
    }
   ],
   "source": [
    "n = int(input('Enter a number: ')) #has to put int, or else error will keep saying other vlaue\n",
    "\n",
    "if n == -1: # sees if n = -1\n",
    "    print('negative one')\n",
    "elif n ==0: # using elif, to basicaly say else if n = 0\n",
    "    print('zero')\n",
    "elif n ==1: # using elif, to basicaly say else if n = 1\n",
    "    print ('positive one')\n",
    "else: # finally if none of the above, prints out 'other value'\n",
    "    print('other value')\n"
   ]
  },
  {
   "cell_type": "markdown",
   "metadata": {
    "id": "sW9XiUPpD04s"
   },
   "source": [
    "## 2. While Loops\n",
    "\n",
    "(10 points) Write a Python program that calculates the factorial of a given number (you can assume an positive integer) using a while loop. Display the result to the console."
   ]
  },
  {
   "cell_type": "code",
   "execution_count": 41,
   "metadata": {
    "colab": {
     "base_uri": "https://localhost:8080/"
    },
    "id": "CRCERx8uD04t",
    "outputId": "1870b9d1-fe04-4ae7-e5ec-08ce640ce72e"
   },
   "outputs": [
    {
     "name": "stdin",
     "output_type": "stream",
     "text": [
      "Enter a number:  2\n"
     ]
    },
    {
     "name": "stdout",
     "output_type": "stream",
     "text": [
      "Output 2\n"
     ]
    }
   ],
   "source": [
    "n = int(input(\"Enter a number: \")) #asks the user to enter a number (assume positivity)\n",
    "multiple = 1 #setting up initial variables we will use\n",
    "i = 1 #setting up initial variables we will use\n",
    "\n",
    "while i <= n: # we are using while loop, so we need to stop when i is greater than n\n",
    "    multiple = multiple * i # multiply the multiple by i\n",
    "    i = i+1 # i becomes the next value, which we are doing factorial but starting backwards. \n",
    "\n",
    "# example: n = 4, 4! means ((((1*1) * 2) * 3) * 4) are multiplied together.\n",
    "\n",
    "print(\"Output\", multiple)\n",
    "# test cases\n",
    "# n = 17, Output: 355687428096000\n",
    "# n = 13, Output: 6227020800"
   ]
  },
  {
   "cell_type": "markdown",
   "metadata": {
    "id": "ZQ5SVMq6D04w"
   },
   "source": [
    "## 3. Functions\n",
    "\n",
    "(10 points) Write a function that determines if a number is prime."
   ]
  },
  {
   "cell_type": "code",
   "execution_count": 43,
   "metadata": {
    "colab": {
     "base_uri": "https://localhost:8080/"
    },
    "id": "6rGP5G3_D04x",
    "outputId": "00df2d17-b697-4146-968f-be4fa7cc3ba3"
   },
   "outputs": [
    {
     "name": "stdout",
     "output_type": "stream",
     "text": [
      "Output: False since 1 or less cannot be evaluated\n",
      "True\n",
      "True\n",
      "False\n",
      "True\n"
     ]
    }
   ],
   "source": [
    "def is_prime(n):\n",
    "    if n <= 1: # set this so user does not input any 1 or less than 1.\n",
    "        return(\"Output: False since 1 or less cannot be evaluated\")\n",
    "    \n",
    "    factor = 2 # make the factor as 2 since smallest prime number to start\n",
    "    while factor * factor <= n: # can do factor * factor as we just need to test any factor larger as some multiples repeat each other, ex: 1*9, 3*3, 9*1.\n",
    "        if n % factor == 0: # check if divisible, if so, then return False to being prime.\n",
    "            return False\n",
    "        factor = factor+1 \n",
    "    return True #other wise after while loop is finish, return True as it is prime.\n",
    "        \n",
    "\n",
    "\n",
    "# test cases\n",
    "print(is_prime(1))\n",
    "print(is_prime(3))\n",
    "print(is_prime(2))      # Output: True\n",
    "print(is_prime(10))     # Output: False\n",
    "print(is_prime(17))     # Output: True"
   ]
  },
  {
   "cell_type": "markdown",
   "metadata": {
    "id": "Z6qg-fpQD04u"
   },
   "source": [
    "## 4. List Comprehension\n",
    "\n",
    "(10 points) Write a Python function called `prime_factors` that takes a relatively small integer as input and returns a list of its distinct prime factors. The function should use list comprehension to generate the list of distinct prime factors. You may use the function is_prime() defined in Q3.\n"
   ]
  },
  {
   "cell_type": "code",
   "execution_count": 44,
   "metadata": {
    "colab": {
     "base_uri": "https://localhost:8080/"
    },
    "id": "2hSCjYlOD04v",
    "outputId": "1024d2e2-7d24-4e65-9529-e5a82d2a3211"
   },
   "outputs": [
    {
     "name": "stdout",
     "output_type": "stream",
     "text": [
      "[2, 3, 5]\n",
      "[2, 7]\n",
      "[2, 3, 11]\n",
      "[2, 29]\n"
     ]
    }
   ],
   "source": [
    "def prime_factors(n):\n",
    "    pfactor = [] #set up a empty list to input the results in\n",
    "    for i in range (2, n+1):\n",
    "        if n%i == 0 and is_prime(i): # the prime factor has to be able to divide n and should be prime using our function earlier\n",
    "            pfactor.append(i) # adds i into the list\n",
    "    return pfactor\n",
    "# test cases\n",
    "print(prime_factors(30))  # Output: [2, 3, 5]\n",
    "print(prime_factors(56))  # Output: [2, 7]\n",
    "print(prime_factors(198))  # Output: [2, 3, 11]\n",
    "print(prime_factors(464))  # Output: [2, 29]"
   ]
  },
  {
   "cell_type": "markdown",
   "metadata": {
    "id": "dw4kZZCiD040"
   },
   "source": [
    "## 5. Recursive Functions\n",
    "(25 points) Write a function that uses recursion to generate the $n$th row of the Pascal's triangle.\n",
    "```\n",
    "              1\n",
    "           1     1\n",
    "        1     2     1\n",
    "      1    3     3     1\n",
    "   1    4     6     4    1\n",
    "1     5    10    10    5    1\n",
    "...\n",
    "...\n",
    "...\n",
    "```"
   ]
  },
  {
   "cell_type": "code",
   "execution_count": 45,
   "metadata": {
    "colab": {
     "base_uri": "https://localhost:8080/"
    },
    "id": "V8QFB_gKD040",
    "outputId": "4946dc49-2061-4057-e65d-9f48af44dac9"
   },
   "outputs": [
    {
     "name": "stdout",
     "output_type": "stream",
     "text": [
      "[1, 4, 6, 4, 1]\n",
      "[1, 5, 10, 10, 5, 1]\n"
     ]
    }
   ],
   "source": [
    "def pascal(n):\n",
    "    answer = [1] # we have to include a list for our output, start with 1 since every row starts with 1\n",
    "    if n ==1:\n",
    "        return  [1] #if user asked for 1, then the output is just 1\n",
    "\n",
    "    \n",
    "    before = pascal(n-1) # setting the list of recursion here with n-1 and stores as before.\n",
    "\n",
    "    for i in range(1, len(before)): # using for loops, we add the adjacent digits of the previous rows then we use append to add the row for each sum calculated.\n",
    "        answer.append(before[i-1] + before [i])\n",
    "    answer.append(1) # dont forget to add the 1 as the last digit of the row.\n",
    "\n",
    "    return answer\n",
    "\n",
    "\n",
    "# test case\n",
    "print(pascal(5))  # output [1, 4, 6, 4, 1]\n",
    "print(pascal(6))  # output [1, 5, 10, 10, 5, 1]"
   ]
  },
  {
   "cell_type": "markdown",
   "metadata": {
    "id": "eZytgm0qD041"
   },
   "source": [
    "Rewrite the above function using only `while` or `for` loops instead of recursion."
   ]
  },
  {
   "cell_type": "code",
   "execution_count": 46,
   "metadata": {
    "colab": {
     "base_uri": "https://localhost:8080/"
    },
    "id": "UZ8f-akaD041",
    "outputId": "68ec5672-a40f-493f-e725-68b7471e76bc"
   },
   "outputs": [
    {
     "name": "stdout",
     "output_type": "stream",
     "text": [
      "[1, 4, 6, 4, 1]\n",
      "[1, 5, 10, 10, 5, 1]\n"
     ]
    }
   ],
   "source": [
    "def pascal_by_loops(n):\n",
    "    # instead of recursion now, we have to use current row to build new one from the beginning n=1 then builds till n = what the user inputs\n",
    "    answer = [1] # we have to include a list for our output, start with 1 since every row starts with 1\n",
    "    if n ==1:\n",
    "        return  [1] #if user asked for 1, then the output is just 1\n",
    "\n",
    "    for k in range(1,n): # using for loops to build the next new row.\n",
    "        new = [1] #every row has to start with 1\n",
    "        for i in range(1, len(answer)):\n",
    "            new.append(answer[i-1] + answer [i]) #this like before adds the adjacent digits and includes the sum into the new row\n",
    "        new.append(1) # dont forget to add the 1 as the last digit of the row.\n",
    "        answer = new # the answer then becomes the new row that was updates thru the for loops.\n",
    "    return answer\n",
    "\n",
    "# test case\n",
    "print(pascal_by_loops(5))  # output [1, 4, 6, 4, 1]\n",
    "print(pascal_by_loops(6))  # output [1, 5, 10, 10, 5, 1]"
   ]
  },
  {
   "cell_type": "markdown",
   "metadata": {
    "id": "HvHD6QHzVo9I"
   },
   "source": [
    "\n",
    "\n",
    "---\n",
    "\n",
    "\n",
    "（5 points) good coding practice and properly submitting your work to GitHub."
   ]
  }
 ],
 "metadata": {
  "anaconda-cloud": {},
  "colab": {
   "provenance": []
  },
  "kernelspec": {
   "display_name": "Python 3 (ipykernel)",
   "language": "python",
   "name": "python3"
  },
  "language_info": {
   "codemirror_mode": {
    "name": "ipython",
    "version": 3
   },
   "file_extension": ".py",
   "mimetype": "text/x-python",
   "name": "python",
   "nbconvert_exporter": "python",
   "pygments_lexer": "ipython3",
   "version": "3.12.4"
  }
 },
 "nbformat": 4,
 "nbformat_minor": 4
}
